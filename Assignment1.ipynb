{
 "cells": [
  {
   "cell_type": "code",
   "execution_count": 371,
   "metadata": {},
   "outputs": [
    {
     "name": "stdout",
     "output_type": "stream",
     "text": [
      "The autoreload extension is already loaded. To reload it, use:\n",
      "  %reload_ext autoreload\n"
     ]
    }
   ],
   "source": [
    "%load_ext autoreload\n",
    "%autoreload 2\n",
    "\n",
    "import numpy as np\n",
    "import h5py\n",
    "import matplotlib.pyplot as plt\n",
    "import scipy\n",
    "import itertools \n",
    "from scipy.signal import convolve\n",
    "\n",
    "from IPython.display import set_matplotlib_formats\n",
    "set_matplotlib_formats('png', 'pdf')\n",
    "\n",
    "# plot parameters\n",
    "rcParams = {\n",
    "    'axes.labelsize': 14,\n",
    "    'font.size': 14,\n",
    "    'legend.fontsize': 14,\n",
    "    'xtick.labelsize': 12,\n",
    "    'ytick.labelsize': 12,\n",
    "    'figure.figsize': [4, 3],\n",
    "    'grid.linewidth': 0.0,\n",
    "    'figure.subplot.hspace': 0.6,\n",
    "    'figure.subplot.wspace': 0.6\n",
    "   }\n",
    "\n",
    "import matplotlib as mpl\n",
    "mpl.rcParams.update(rcParams)\n",
    "\n",
    "np.set_printoptions(precision=2)\n",
    "np.set_printoptions(suppress=1)\n",
    "np.seterr(all='print')\n",
    "\n",
    "%matplotlib inline\n",
    "%reload_ext autoreload"
   ]
  },
  {
   "cell_type": "markdown",
   "metadata": {},
   "source": [
    "# read all data for one neuron"
   ]
  },
  {
   "cell_type": "code",
   "execution_count": 372,
   "metadata": {},
   "outputs": [
    {
     "name": "stdout",
     "output_type": "stream",
     "text": [
      "['block_starts', 'block_stops', 'spikes', 'stimindex', 'stimulus']\n"
     ]
    }
   ],
   "source": [
    "unit = 317\n",
    "#f.close()\n",
    "\n",
    "f = h5py.File('data_unit_'+str(unit)+'.hdf5','r')\n",
    "\n",
    "# file contents\n",
    "print(list(f.keys()))\n",
    "\n",
    "# read the data\n",
    "stimindex = f['stimindex'][()] # index to each stimulus (nan where no stimulus was shown)\n",
    "spikes = f['spikes'][()] # spike times\n",
    "block_starts = f['block_starts'][()] # start time of each stimulus block\n",
    "block_stops = f['block_stops'][()]# end time of each stimulus block\n",
    "stimulus = f['stimulus'][()] # the stimulus\n",
    "f.close()"
   ]
  },
  {
   "cell_type": "markdown",
   "metadata": {},
   "source": [
    "# Parameters and constants"
   ]
  },
  {
   "cell_type": "code",
   "execution_count": 373,
   "metadata": {},
   "outputs": [
    {
     "name": "stdout",
     "output_type": "stream",
     "text": [
      "Coefficient of Variance =  1.0246383132327854\n"
     ]
    }
   ],
   "source": [
    "# Sampling rate:\n",
    "Fs = 7062.058198545425\n",
    "\n",
    "#convert to seconds\n",
    "spike_times = spikes/Fs\n",
    "start = block_starts/Fs\n",
    "end = block_stops/Fs\n",
    "\n",
    "spike_time = []\n",
    "for a in range(0,9):\n",
    "    for i in spike_times:\n",
    "        if i >= start[a]:\n",
    "            if i <= end[a]:\n",
    "                spike_time.append(i)\n",
    "\n",
    "spike_time = np.array(spike_time)\n",
    "\n",
    "spike_count = len(spike_time)\n",
    "T = sum(end-start)\n",
    "\n",
    "firing_rate = (spike_count)/T\n",
    "\n",
    "spike_time0 = []\n",
    "for i in spike_times:\n",
    "    if i >= start[0]:\n",
    "        if i <= end[0]:\n",
    "            spike_time0.append(i)\n",
    "\n",
    "spike_time0 = np.array(spike_time0)\n",
    "wait0 =  np.diff(spike_time0)\n",
    "\n",
    "spike_time1 = []\n",
    "for i in spike_times:\n",
    "    if i >= start[1]:\n",
    "        if i <= end[1]:\n",
    "            spike_time1.append(i)\n",
    "spike_time1 = np.array(spike_time1)\n",
    "wait1 =  np.diff(spike_time1)\n",
    "\n",
    "\n",
    "spike_time2 = []\n",
    "for i in spike_times:\n",
    "    if i >= start[2]:\n",
    "        if i <= end[2]:\n",
    "            spike_time2.append(i)\n",
    "spike_time2 = np.array(spike_time2)\n",
    "wait2 =  np.diff(spike_time2)\n",
    "\n",
    "\n",
    "spike_time3 = []\n",
    "for i in spike_times:\n",
    "    if i >= start[3]:\n",
    "        if i <= end[3]:\n",
    "            spike_time3.append(i)\n",
    "spike_time3 = np.array(spike_time3)\n",
    "wait3 = np.diff(spike_time3)\n",
    "\n",
    "spike_time4 = []\n",
    "for i in spike_times:\n",
    "    if i >= start[4]:\n",
    "        if i <= end[4]:\n",
    "            spike_time4.append(i)\n",
    "spike_time4 = np.array(spike_time4)\n",
    "wait4 =  np.diff(spike_time4)\n",
    "\n",
    "spike_time5 = []\n",
    "for i in spike_times:\n",
    "    if i >= start[5]:\n",
    "        if i <= end[5]:\n",
    "            spike_time5.append(i)\n",
    "\n",
    "spike_time5 = np.array(spike_time5)\n",
    "wait5 =  np.diff(spike_time5)\n",
    "\n",
    "spike_time6 = []\n",
    "for i in spike_times:\n",
    "    if i >= start[6]:\n",
    "        if i <= end[6]:\n",
    "            spike_time6.append(i)\n",
    "\n",
    "spike_time6 = np.array(spike_time6)\n",
    "wait6 =  np.diff(spike_time6)\n",
    "\n",
    "spike_time7 = []\n",
    "for i in spike_times:\n",
    "    if i >= start[7]:\n",
    "        if i <= end[7]:\n",
    "            spike_time7.append(i)\n",
    "\n",
    "spike_time7 = np.array(spike_time7)\n",
    "wait7 =  np.diff(spike_time7)\n",
    "\n",
    "spike_time8 = []\n",
    "for i in spike_times:\n",
    "    if i >= start[8]:\n",
    "        if i <= end[8]:\n",
    "            spike_time8.append(i)\n",
    "spike_time8 = np.array(spike_time8)\n",
    "wait8 =  np.diff(spike_time8)\n",
    "\n",
    "K = len(block_starts)\n",
    "\n",
    "ws1 = np.concatenate((wait0, wait1, wait2))\n",
    "ws2 = np.concatenate((wait3, wait4, wait5))\n",
    "ws3 = np.concatenate((wait6, wait7, wait8))\n",
    "waiting_times = np.concatenate((ws1, ws2, ws3))\n",
    "\n",
    "mean = np.mean(waiting_times)\n",
    "\n",
    "mean_sq = sum(waiting_times**2)/len(waiting_times)\n",
    "\n",
    "variance = mean_sq - (mean**2)\n",
    "\n",
    "C_v = np.sqrt(variance)/mean\n",
    "\n",
    "print(\"Coefficient of Variance = \", C_v)\n",
    "\n",
    "\n",
    "\n"
   ]
  },
  {
   "cell_type": "code",
   "execution_count": 374,
   "metadata": {},
   "outputs": [
    {
     "name": "stdout",
     "output_type": "stream",
     "text": [
      "-0.1531005664218625\n",
      "[23] [4] [7]\n",
      "-0.1531005664218625\n"
     ]
    },
    {
     "data": {
      "text/plain": [
       "-0.1531005664218625"
      ]
     },
     "execution_count": 374,
     "metadata": {},
     "output_type": "execute_result"
    }
   ],
   "source": [
    "#Question 2.\n",
    "\n",
    "# stimulus duration in sample frames (approx)\n",
    "stim_len = 235.\n",
    "\n",
    "# STA parameters\n",
    "t_past   = 0.50  # seconds\n",
    "t_future = 0 # seconds\n",
    "t_sample = t_past*Fs\n",
    "min_interval = int(stim_len/2) # step size for STA (resolution)\n",
    "\n",
    "# Hint\n",
    "\n",
    "# to obtain the spike times during stimulus presentations, use this:\n",
    "spikes_stim = np.concatenate([spikes[(spikes>=a)&(spikes<b)] for (a,b) in zip(block_starts,block_stops)])\n",
    "\n",
    "\n",
    "stim_full = np.zeros((30,12,12))\n",
    "# look at each spike\n",
    "for i in spikes_stim:\n",
    "    stim = []\n",
    "    #print(i)\n",
    "    # for each spike go back t_sample time and create time steps of length min_interval\n",
    "    # get the stimulus at each time step\n",
    "    for j in range(int(i-t_sample)+min_interval,i,min_interval):\n",
    "        if np.isnan(stimindex[j]):\n",
    "            stim.append(np.zeros((12,12)))\n",
    "        else:\n",
    "            stim.append(stimulus[int(stimindex[j])])\n",
    "    stim = np.array(stim)\n",
    "    # add each 30x12x12 matrix for each spike and divide by the total number of spikes to get the average\n",
    "    stim_full += stim\n",
    "\n",
    "stim_full = stim_full/len(spikes_stim)\n",
    "ind1, ind2, ind3 = np.where(stim_full == max(stim_full.min(), stim_full.max(), key=abs))\n",
    "print(max(stim_full.min(), stim_full.max(), key=abs))\n",
    "print(ind1, ind2, ind3)\n",
    "print(stim_full[int(ind1)][int(ind2)][int(ind3)])\n",
    "\n",
    "plot_list = []\n",
    "for i in range(0,30):\n",
    "    plot_list.append(stim_full[i][int(ind2)][int(ind3)])\n",
    "    \n",
    "max(stim_full.min(), stim_full.max(), key=abs)"
   ]
  },
  {
   "cell_type": "markdown",
   "metadata": {},
   "source": [
    "# Compute and plot the STA"
   ]
  },
  {
   "cell_type": "code",
   "execution_count": 375,
   "metadata": {},
   "outputs": [
    {
     "data": {
      "image/png": "[encoded data removed]",
      "text/plain": [
       "<Figure size 432x288 with 1 Axes>"
      ]
     },
     "metadata": {
      "needs_background": "light"
     },
     "output_type": "display_data"
    }
   ],
   "source": [
    "#t = np.arange(30, 0, -1)\n",
    "plt.plot(t, plot_list)\n",
    "plt.xlim(30, 0)\n",
    "plt.xlabel('Time bin')\n",
    "plt.ylabel('STA Intensity')\n",
    "plt.title('Neuron 336: Spike-Triggered Average for stimulus pixel (6,6)')\n",
    "plt.grid(True)\n",
    "\n",
    "plt.show()\n"
   ]
  },
  {
   "cell_type": "code",
   "execution_count": 376,
   "metadata": {},
   "outputs": [
    {
     "data": {
      "text/plain": [
       "Text(0.5, 1.0, 'Neuron 336: The spatial profile at the peak')"
      ]
     },
     "execution_count": 376,
     "metadata": {},
     "output_type": "execute_result"
    },
    {
     "data": {
      "image/png": "[encoded data removed]",
      "text/plain": [
       "<Figure size 432x288 with 1 Axes>"
      ]
     },
     "metadata": {
      "needs_background": "light"
     },
     "output_type": "display_data"
    }
   ],
   "source": [
    "plt.imshow(stim_full[int(ind1)])\n",
    "plt.title('Neuron 336: The spatial profile at the peak')\n"
   ]
  },
  {
   "cell_type": "markdown",
   "metadata": {},
   "source": [
    "# fit the GLM"
   ]
  },
  {
   "cell_type": "code",
   "execution_count": 377,
   "metadata": {},
   "outputs": [
    {
     "name": "stdout",
     "output_type": "stream",
     "text": [
      "Warning: Maximum number of iterations has been exceeded.\n"
     ]
    }
   ],
   "source": [
    "# Hint\n",
    "\n",
    "# first prepare some matrices\n",
    "# this will binthe data and stimulus indices so it is eacy to perform the convolution\n",
    "from scipy.optimize import minimize\n",
    "r = []\n",
    "s = []\n",
    "for (a,b) in zip(block_starts,block_stops):\n",
    "    rt = np.zeros(int((b-a)//min_interval+1),dtype=bool)\n",
    "    inds = (spikes>=a)&(spikes<b)\n",
    "    rt[np.array(np.floor(spikes[inds]-a)/min_interval).astype(int)]=True\n",
    "    st = np.array(stimindex[int(a):int(b):int(min_interval)]).astype(int)\n",
    "    r.append(rt)\n",
    "    s.append(st)\n",
    "r = np.concatenate([ar for ar in r]) # spike or no in each bin\n",
    "s = np.concatenate([ar for ar in s]) # index to stimulus in each bin (slice stimulus array)\n",
    "\n",
    "def f(x):\n",
    "    \"\"\"\n",
    "    Computes the logistic function as non-linearty\n",
    "    \"\"\"\n",
    "    log = (1/(1+np.exp(-x)))\n",
    "    return log\n",
    "\n",
    "def convolution_kernel(k, s):\n",
    "    \"\"\"\n",
    "    Convolves k and s\n",
    "    \"\"\"\n",
    "    # pad kernel with zeros to ensure it is causal (only looks back in time)\n",
    "    pad = np.concatenate([np.zeros((k.size-1)), s])\n",
    "    conv = convolve(pad, k, mode = 'valid')\n",
    "    return conv\n",
    "\n",
    "def log_prob(k, s, r, alpha):\n",
    "    \"\"\"\n",
    "    Computes the loss function for a Bernoulli GLM.\n",
    "    \"\"\"\n",
    "    #dt = min_interval\n",
    "    csk = convolution_kernel(k, s)\n",
    "    f_ = f(csk)\n",
    "    # Compute the negative log-likelihood\n",
    "    Neg_log_lik = -np.sum(r*np.log(f_) + (1-r)*np.log(1-f_))\n",
    "    # Compute the L2 regularization penalty\n",
    "    L2_reg = alpha*np.sum(k**2)\n",
    "    loss_func = np.sum(Neg_log_lik+L2_reg)           \n",
    "    return loss_func\n",
    "\n",
    "def kernel(pix, ker, r, alpha):\n",
    "    \"\"\"\n",
    "    Finds the params that minimise the loss function, using \n",
    "    the Nelder-Mead algorithm as the numerical minimiser\n",
    "    \"\"\"\n",
    "    ker = minimize(log_prob, x0=ker[::-1], args=(pix, r, alpha), method='Nelder-Mead', options={'disp':True, 'maxiter':300})\n",
    "    return ker.x\n",
    "\n",
    "glm = kernel(stimulus[s, int(ind2), int(ind3)], plot_list, r, 500)\n"
   ]
  },
  {
   "cell_type": "code",
   "execution_count": 381,
   "metadata": {},
   "outputs": [
    {
     "data": {
      "image/png": "[encoded data removed]",
      "text/plain": [
       "<Figure size 432x288 with 1 Axes>"
      ]
     },
     "metadata": {
      "needs_background": "light"
     },
     "output_type": "display_data"
    }
   ],
   "source": [
    "plt.plot(glm, color=\"red\", label =\"Kernel\")\n",
    "plt.xlabel('Time bin')\n",
    "plt.ylabel('Spike-Triggered Average')\n",
    "plt.title('Neuron 317')\n",
    "plt.grid(True)\n",
    "plt.plot(plot_list, label =\"Spike-Triggered Average\")\n",
    "plt.xlim(30, 0)\n",
    "plt.legend(loc='upper left')\n",
    "\n",
    "plt.show()"
   ]
  },
  {
   "cell_type": "code",
   "execution_count": null,
   "metadata": {},
   "outputs": [],
   "source": []
  },
  {
   "cell_type": "code",
   "execution_count": null,
   "metadata": {},
   "outputs": [],
   "source": []
  }
 ],
 "metadata": {
  "kernelspec": {
   "display_name": "Python 3",
   "language": "python",
   "name": "python3"
  }
 },
 "nbformat": 4,
 "nbformat_minor": 2
}
